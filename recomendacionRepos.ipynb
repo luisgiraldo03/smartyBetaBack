{
 "cells": [
  {
   "cell_type": "code",
   "execution_count": 32,
   "metadata": {},
   "outputs": [],
   "source": [
    "import pandas as pd\n",
    "import numpy as np\n",
    "from sklearn.metrics import mean_squared_error\n",
    "from sklearn.model_selection import train_test_split\n",
    "from sklearn.neighbors import NearestNeighbors\n",
    "import matplotlib.pyplot as plt\n",
    "import sklearn"
   ]
  },
  {
   "cell_type": "code",
   "execution_count": 33,
   "metadata": {},
   "outputs": [
    {
     "name": "stdout",
     "output_type": "stream",
     "text": [
      "   userId     username                  name\n",
      "0       1     iris9112  Isabel Ruiz Buriticá\n",
      "1       2  dianaclarke                 Diana\n",
      "2       3  nateprewitt          Nate Prewitt\n",
      "3       4       oldani       Ordanis Sanchez\n",
      "4       5   waflessnet            waflessnet\n"
     ]
    }
   ],
   "source": [
    "df_users = pd.read_csv(\"users.csv\", sep=';')\n",
    "df_repos = pd.read_csv(\"repos.csv\", sep=';')\n",
    "df_ratings = pd.read_csv(\"ratings.csv\", sep=';')\n",
    "print(df_users.head())"
   ]
  },
  {
   "cell_type": "code",
   "execution_count": 34,
   "metadata": {},
   "outputs": [
    {
     "name": "stdout",
     "output_type": "stream",
     "text": [
      "   repoId                           title categories\n",
      "0       1               Son Havana (1995)        Bar\n",
      "1       2                 Sixttina (1995)  Discoteca\n",
      "2       3  La guachafita de lleras (1995)  reggaeton\n",
      "3       4               Koko bongo (1995)      Salsa\n",
      "4       5                    lobby (1995)  Vallenato\n"
     ]
    }
   ],
   "source": [
    "print(df_repos.head())"
   ]
  },
  {
   "cell_type": "code",
   "execution_count": 35,
   "metadata": {},
   "outputs": [
    {
     "name": "stdout",
     "output_type": "stream",
     "text": [
      "   userId  repoId  rating\n",
      "0       1       1       2\n",
      "1       1       2       3\n",
      "2       1       3       4\n",
      "3       1       4       5\n",
      "4       1       5       3\n"
     ]
    }
   ],
   "source": [
    "print(df_ratings.head())"
   ]
  },
  {
   "cell_type": "code",
   "execution_count": 36,
   "metadata": {},
   "outputs": [
    {
     "name": "stdout",
     "output_type": "stream",
     "text": [
      "30 users\n",
      "31 items\n"
     ]
    }
   ],
   "source": [
    "n_users = df_ratings.userId.unique().shape[0]\n",
    "n_items = df_ratings.repoId.unique().shape[0]\n",
    "print (str(n_users) + ' users')\n",
    "print (str(n_items) + ' items')"
   ]
  },
  {
   "cell_type": "code",
   "execution_count": 37,
   "metadata": {},
   "outputs": [
    {
     "data": {
      "text/plain": [
       "(array([94., 62., 66., 28., 40., 12., 14.,  8.]),\n",
       " array([1.   , 1.875, 2.75 , 3.625, 4.5  , 5.375, 6.25 , 7.125, 8.   ]),\n",
       " <a list of 8 Patch objects>)"
      ]
     },
     "execution_count": 37,
     "metadata": {},
     "output_type": "execute_result"
    },
    {
     "data": {
      "image/png": "[encoded data removed]",
      "text/plain": [
       "<Figure size 1440x360 with 1 Axes>"
      ]
     },
     "metadata": {
      "needs_background": "light"
     },
     "output_type": "display_data"
    }
   ],
   "source": [
    "plt.hist(df_ratings.rating,bins=8)"
   ]
  },
  {
   "cell_type": "code",
   "execution_count": 38,
   "metadata": {},
   "outputs": [
    {
     "data": {
      "text/plain": [
       "rating\n",
       "1    94\n",
       "2    62\n",
       "3    66\n",
       "4    28\n",
       "5    40\n",
       "6    12\n",
       "7    14\n",
       "8     8\n",
       "Name: userId, dtype: int64"
      ]
     },
     "execution_count": 38,
     "metadata": {},
     "output_type": "execute_result"
    }
   ],
   "source": [
    "#mas de 80 valoraciones con una puntuacion de 1 y unas 40 con puntuacion de 5\n",
    "df_ratings.groupby([\"rating\"])[\"userId\"].count()"
   ]
  },
  {
   "cell_type": "code",
   "execution_count": 39,
   "metadata": {},
   "outputs": [
    {
     "data": {
      "text/plain": [
       "(array([ 1.,  8., 10.,  7.,  3.,  1.,  0.,  1.]),\n",
       " array([ 1.   ,  4.375,  7.75 , 11.125, 14.5  , 17.875, 21.25 , 24.625,\n",
       "        28.   ]),\n",
       " <a list of 8 Patch objects>)"
      ]
     },
     "execution_count": 39,
     "metadata": {},
     "output_type": "execute_result"
    },
    {
     "data": {
      "image/png": "[encoded data removed]",
      "text/plain": [
       "<Figure size 1440x360 with 1 Axes>"
      ]
     },
     "metadata": {
      "needs_background": "light"
     },
     "output_type": "display_data"
    }
   ],
   "source": [
    "plt.hist(df_ratings.groupby([\"repoId\"])[\"repoId\"].count(),bins=8)"
   ]
  },
  {
   "cell_type": "code",
   "execution_count": 40,
   "metadata": {},
   "outputs": [
    {
     "data": {
      "text/html": [
       "<div>\n",
       "<style scoped>\n",
       "    .dataframe tbody tr th:only-of-type {\n",
       "        vertical-align: middle;\n",
       "    }\n",
       "\n",
       "    .dataframe tbody tr th {\n",
       "        vertical-align: top;\n",
       "    }\n",
       "\n",
       "    .dataframe thead th {\n",
       "        text-align: right;\n",
       "    }\n",
       "</style>\n",
       "<table border=\"1\" class=\"dataframe\">\n",
       "  <thead>\n",
       "    <tr style=\"text-align: right;\">\n",
       "      <th>repoId</th>\n",
       "      <th>1</th>\n",
       "      <th>2</th>\n",
       "      <th>3</th>\n",
       "      <th>4</th>\n",
       "      <th>5</th>\n",
       "      <th>6</th>\n",
       "      <th>7</th>\n",
       "      <th>8</th>\n",
       "      <th>9</th>\n",
       "      <th>10</th>\n",
       "      <th>...</th>\n",
       "      <th>22</th>\n",
       "      <th>23</th>\n",
       "      <th>24</th>\n",
       "      <th>25</th>\n",
       "      <th>26</th>\n",
       "      <th>27</th>\n",
       "      <th>28</th>\n",
       "      <th>29</th>\n",
       "      <th>30</th>\n",
       "      <th>31</th>\n",
       "    </tr>\n",
       "    <tr>\n",
       "      <th>userId</th>\n",
       "      <th></th>\n",
       "      <th></th>\n",
       "      <th></th>\n",
       "      <th></th>\n",
       "      <th></th>\n",
       "      <th></th>\n",
       "      <th></th>\n",
       "      <th></th>\n",
       "      <th></th>\n",
       "      <th></th>\n",
       "      <th></th>\n",
       "      <th></th>\n",
       "      <th></th>\n",
       "      <th></th>\n",
       "      <th></th>\n",
       "      <th></th>\n",
       "      <th></th>\n",
       "      <th></th>\n",
       "      <th></th>\n",
       "      <th></th>\n",
       "      <th></th>\n",
       "    </tr>\n",
       "  </thead>\n",
       "  <tbody>\n",
       "    <tr>\n",
       "      <td>1</td>\n",
       "      <td>2.0</td>\n",
       "      <td>3.0</td>\n",
       "      <td>4.0</td>\n",
       "      <td>5.000000</td>\n",
       "      <td>3.0</td>\n",
       "      <td>1.0</td>\n",
       "      <td>5.0</td>\n",
       "      <td>1.0</td>\n",
       "      <td>0.0</td>\n",
       "      <td>4.0</td>\n",
       "      <td>...</td>\n",
       "      <td>0.0</td>\n",
       "      <td>0.0</td>\n",
       "      <td>0.0</td>\n",
       "      <td>0.0</td>\n",
       "      <td>0.0</td>\n",
       "      <td>0.0</td>\n",
       "      <td>0.0</td>\n",
       "      <td>0.0</td>\n",
       "      <td>5.0</td>\n",
       "      <td>0.0</td>\n",
       "    </tr>\n",
       "    <tr>\n",
       "      <td>2</td>\n",
       "      <td>0.0</td>\n",
       "      <td>0.0</td>\n",
       "      <td>0.0</td>\n",
       "      <td>0.000000</td>\n",
       "      <td>0.0</td>\n",
       "      <td>0.0</td>\n",
       "      <td>0.0</td>\n",
       "      <td>0.0</td>\n",
       "      <td>0.0</td>\n",
       "      <td>0.0</td>\n",
       "      <td>...</td>\n",
       "      <td>1.0</td>\n",
       "      <td>1.0</td>\n",
       "      <td>0.0</td>\n",
       "      <td>0.0</td>\n",
       "      <td>0.0</td>\n",
       "      <td>0.0</td>\n",
       "      <td>0.0</td>\n",
       "      <td>0.0</td>\n",
       "      <td>0.0</td>\n",
       "      <td>0.0</td>\n",
       "    </tr>\n",
       "    <tr>\n",
       "      <td>3</td>\n",
       "      <td>0.0</td>\n",
       "      <td>0.0</td>\n",
       "      <td>0.0</td>\n",
       "      <td>0.000000</td>\n",
       "      <td>0.0</td>\n",
       "      <td>0.0</td>\n",
       "      <td>5.0</td>\n",
       "      <td>0.0</td>\n",
       "      <td>0.0</td>\n",
       "      <td>0.0</td>\n",
       "      <td>...</td>\n",
       "      <td>0.0</td>\n",
       "      <td>0.0</td>\n",
       "      <td>3.0</td>\n",
       "      <td>2.0</td>\n",
       "      <td>1.0</td>\n",
       "      <td>1.0</td>\n",
       "      <td>1.0</td>\n",
       "      <td>1.0</td>\n",
       "      <td>1.0</td>\n",
       "      <td>1.0</td>\n",
       "    </tr>\n",
       "    <tr>\n",
       "      <td>4</td>\n",
       "      <td>0.0</td>\n",
       "      <td>0.0</td>\n",
       "      <td>0.0</td>\n",
       "      <td>0.000000</td>\n",
       "      <td>0.0</td>\n",
       "      <td>0.0</td>\n",
       "      <td>5.0</td>\n",
       "      <td>0.0</td>\n",
       "      <td>0.0</td>\n",
       "      <td>0.0</td>\n",
       "      <td>...</td>\n",
       "      <td>0.0</td>\n",
       "      <td>6.0</td>\n",
       "      <td>0.0</td>\n",
       "      <td>0.0</td>\n",
       "      <td>1.0</td>\n",
       "      <td>4.0</td>\n",
       "      <td>3.0</td>\n",
       "      <td>1.0</td>\n",
       "      <td>1.0</td>\n",
       "      <td>0.0</td>\n",
       "    </tr>\n",
       "    <tr>\n",
       "      <td>5</td>\n",
       "      <td>1.0</td>\n",
       "      <td>1.0</td>\n",
       "      <td>1.0</td>\n",
       "      <td>0.000000</td>\n",
       "      <td>1.0</td>\n",
       "      <td>0.0</td>\n",
       "      <td>1.0</td>\n",
       "      <td>0.0</td>\n",
       "      <td>1.0</td>\n",
       "      <td>0.0</td>\n",
       "      <td>...</td>\n",
       "      <td>0.0</td>\n",
       "      <td>0.0</td>\n",
       "      <td>1.0</td>\n",
       "      <td>1.0</td>\n",
       "      <td>0.0</td>\n",
       "      <td>5.0</td>\n",
       "      <td>0.0</td>\n",
       "      <td>0.0</td>\n",
       "      <td>0.0</td>\n",
       "      <td>0.0</td>\n",
       "    </tr>\n",
       "    <tr>\n",
       "      <td>6</td>\n",
       "      <td>0.0</td>\n",
       "      <td>0.0</td>\n",
       "      <td>0.0</td>\n",
       "      <td>1.000000</td>\n",
       "      <td>7.0</td>\n",
       "      <td>0.0</td>\n",
       "      <td>0.0</td>\n",
       "      <td>0.0</td>\n",
       "      <td>0.0</td>\n",
       "      <td>1.0</td>\n",
       "      <td>...</td>\n",
       "      <td>0.0</td>\n",
       "      <td>1.0</td>\n",
       "      <td>0.0</td>\n",
       "      <td>0.0</td>\n",
       "      <td>0.0</td>\n",
       "      <td>0.0</td>\n",
       "      <td>0.0</td>\n",
       "      <td>0.0</td>\n",
       "      <td>0.0</td>\n",
       "      <td>0.0</td>\n",
       "    </tr>\n",
       "    <tr>\n",
       "      <td>7</td>\n",
       "      <td>1.0</td>\n",
       "      <td>1.0</td>\n",
       "      <td>1.0</td>\n",
       "      <td>1.000000</td>\n",
       "      <td>1.0</td>\n",
       "      <td>1.0</td>\n",
       "      <td>1.0</td>\n",
       "      <td>4.0</td>\n",
       "      <td>7.0</td>\n",
       "      <td>0.0</td>\n",
       "      <td>...</td>\n",
       "      <td>0.0</td>\n",
       "      <td>0.0</td>\n",
       "      <td>0.0</td>\n",
       "      <td>0.0</td>\n",
       "      <td>0.0</td>\n",
       "      <td>0.0</td>\n",
       "      <td>0.0</td>\n",
       "      <td>0.0</td>\n",
       "      <td>0.0</td>\n",
       "      <td>0.0</td>\n",
       "    </tr>\n",
       "    <tr>\n",
       "      <td>8</td>\n",
       "      <td>0.0</td>\n",
       "      <td>0.0</td>\n",
       "      <td>1.0</td>\n",
       "      <td>0.000000</td>\n",
       "      <td>3.0</td>\n",
       "      <td>3.0</td>\n",
       "      <td>0.0</td>\n",
       "      <td>1.0</td>\n",
       "      <td>0.0</td>\n",
       "      <td>0.0</td>\n",
       "      <td>...</td>\n",
       "      <td>0.0</td>\n",
       "      <td>5.0</td>\n",
       "      <td>0.0</td>\n",
       "      <td>1.0</td>\n",
       "      <td>0.0</td>\n",
       "      <td>0.0</td>\n",
       "      <td>0.0</td>\n",
       "      <td>0.0</td>\n",
       "      <td>2.0</td>\n",
       "      <td>0.0</td>\n",
       "    </tr>\n",
       "    <tr>\n",
       "      <td>9</td>\n",
       "      <td>0.0</td>\n",
       "      <td>0.0</td>\n",
       "      <td>0.0</td>\n",
       "      <td>0.000000</td>\n",
       "      <td>0.0</td>\n",
       "      <td>0.0</td>\n",
       "      <td>0.0</td>\n",
       "      <td>0.0</td>\n",
       "      <td>0.0</td>\n",
       "      <td>0.0</td>\n",
       "      <td>...</td>\n",
       "      <td>0.0</td>\n",
       "      <td>0.0</td>\n",
       "      <td>0.0</td>\n",
       "      <td>0.0</td>\n",
       "      <td>0.0</td>\n",
       "      <td>0.0</td>\n",
       "      <td>0.0</td>\n",
       "      <td>0.0</td>\n",
       "      <td>0.0</td>\n",
       "      <td>0.0</td>\n",
       "    </tr>\n",
       "    <tr>\n",
       "      <td>10</td>\n",
       "      <td>0.0</td>\n",
       "      <td>0.0</td>\n",
       "      <td>0.0</td>\n",
       "      <td>5.000000</td>\n",
       "      <td>0.0</td>\n",
       "      <td>7.0</td>\n",
       "      <td>5.0</td>\n",
       "      <td>0.0</td>\n",
       "      <td>3.0</td>\n",
       "      <td>0.0</td>\n",
       "      <td>...</td>\n",
       "      <td>0.0</td>\n",
       "      <td>0.0</td>\n",
       "      <td>0.0</td>\n",
       "      <td>0.0</td>\n",
       "      <td>2.0</td>\n",
       "      <td>1.0</td>\n",
       "      <td>1.0</td>\n",
       "      <td>0.0</td>\n",
       "      <td>0.0</td>\n",
       "      <td>0.0</td>\n",
       "    </tr>\n",
       "    <tr>\n",
       "      <td>11</td>\n",
       "      <td>0.0</td>\n",
       "      <td>0.0</td>\n",
       "      <td>0.0</td>\n",
       "      <td>0.000000</td>\n",
       "      <td>0.0</td>\n",
       "      <td>0.0</td>\n",
       "      <td>0.0</td>\n",
       "      <td>0.0</td>\n",
       "      <td>0.0</td>\n",
       "      <td>0.0</td>\n",
       "      <td>...</td>\n",
       "      <td>2.0</td>\n",
       "      <td>2.0</td>\n",
       "      <td>7.0</td>\n",
       "      <td>7.0</td>\n",
       "      <td>0.0</td>\n",
       "      <td>0.0</td>\n",
       "      <td>0.0</td>\n",
       "      <td>0.0</td>\n",
       "      <td>0.0</td>\n",
       "      <td>0.0</td>\n",
       "    </tr>\n",
       "    <tr>\n",
       "      <td>12</td>\n",
       "      <td>0.0</td>\n",
       "      <td>0.0</td>\n",
       "      <td>0.0</td>\n",
       "      <td>0.000000</td>\n",
       "      <td>0.0</td>\n",
       "      <td>0.0</td>\n",
       "      <td>0.0</td>\n",
       "      <td>0.0</td>\n",
       "      <td>0.0</td>\n",
       "      <td>0.0</td>\n",
       "      <td>...</td>\n",
       "      <td>1.0</td>\n",
       "      <td>0.0</td>\n",
       "      <td>0.0</td>\n",
       "      <td>0.0</td>\n",
       "      <td>0.0</td>\n",
       "      <td>0.0</td>\n",
       "      <td>0.0</td>\n",
       "      <td>0.0</td>\n",
       "      <td>1.0</td>\n",
       "      <td>0.0</td>\n",
       "    </tr>\n",
       "    <tr>\n",
       "      <td>13</td>\n",
       "      <td>3.0</td>\n",
       "      <td>0.0</td>\n",
       "      <td>0.0</td>\n",
       "      <td>0.000000</td>\n",
       "      <td>0.0</td>\n",
       "      <td>0.0</td>\n",
       "      <td>0.0</td>\n",
       "      <td>0.0</td>\n",
       "      <td>0.0</td>\n",
       "      <td>0.0</td>\n",
       "      <td>...</td>\n",
       "      <td>0.0</td>\n",
       "      <td>0.0</td>\n",
       "      <td>0.0</td>\n",
       "      <td>0.0</td>\n",
       "      <td>0.0</td>\n",
       "      <td>0.0</td>\n",
       "      <td>0.0</td>\n",
       "      <td>0.0</td>\n",
       "      <td>0.0</td>\n",
       "      <td>0.0</td>\n",
       "    </tr>\n",
       "    <tr>\n",
       "      <td>14</td>\n",
       "      <td>0.0</td>\n",
       "      <td>6.0</td>\n",
       "      <td>3.0</td>\n",
       "      <td>3.000000</td>\n",
       "      <td>5.0</td>\n",
       "      <td>4.0</td>\n",
       "      <td>3.0</td>\n",
       "      <td>7.0</td>\n",
       "      <td>5.0</td>\n",
       "      <td>2.0</td>\n",
       "      <td>...</td>\n",
       "      <td>0.0</td>\n",
       "      <td>0.0</td>\n",
       "      <td>0.0</td>\n",
       "      <td>0.0</td>\n",
       "      <td>0.0</td>\n",
       "      <td>0.0</td>\n",
       "      <td>0.0</td>\n",
       "      <td>0.0</td>\n",
       "      <td>0.0</td>\n",
       "      <td>0.0</td>\n",
       "    </tr>\n",
       "    <tr>\n",
       "      <td>15</td>\n",
       "      <td>0.0</td>\n",
       "      <td>0.0</td>\n",
       "      <td>0.0</td>\n",
       "      <td>0.000000</td>\n",
       "      <td>0.0</td>\n",
       "      <td>0.0</td>\n",
       "      <td>0.0</td>\n",
       "      <td>2.0</td>\n",
       "      <td>0.0</td>\n",
       "      <td>0.0</td>\n",
       "      <td>...</td>\n",
       "      <td>0.0</td>\n",
       "      <td>0.0</td>\n",
       "      <td>0.0</td>\n",
       "      <td>0.0</td>\n",
       "      <td>0.0</td>\n",
       "      <td>7.0</td>\n",
       "      <td>0.0</td>\n",
       "      <td>0.0</td>\n",
       "      <td>2.0</td>\n",
       "      <td>0.0</td>\n",
       "    </tr>\n",
       "    <tr>\n",
       "      <td>16</td>\n",
       "      <td>0.0</td>\n",
       "      <td>0.0</td>\n",
       "      <td>0.0</td>\n",
       "      <td>0.000000</td>\n",
       "      <td>0.0</td>\n",
       "      <td>0.0</td>\n",
       "      <td>0.0</td>\n",
       "      <td>0.0</td>\n",
       "      <td>0.0</td>\n",
       "      <td>0.0</td>\n",
       "      <td>...</td>\n",
       "      <td>0.0</td>\n",
       "      <td>0.0</td>\n",
       "      <td>0.0</td>\n",
       "      <td>0.0</td>\n",
       "      <td>0.0</td>\n",
       "      <td>2.0</td>\n",
       "      <td>3.0</td>\n",
       "      <td>3.0</td>\n",
       "      <td>0.0</td>\n",
       "      <td>0.0</td>\n",
       "    </tr>\n",
       "    <tr>\n",
       "      <td>17</td>\n",
       "      <td>2.0</td>\n",
       "      <td>3.0</td>\n",
       "      <td>1.0</td>\n",
       "      <td>3.000000</td>\n",
       "      <td>2.0</td>\n",
       "      <td>2.0</td>\n",
       "      <td>3.0</td>\n",
       "      <td>3.0</td>\n",
       "      <td>3.5</td>\n",
       "      <td>0.0</td>\n",
       "      <td>...</td>\n",
       "      <td>1.0</td>\n",
       "      <td>2.5</td>\n",
       "      <td>3.0</td>\n",
       "      <td>3.0</td>\n",
       "      <td>4.0</td>\n",
       "      <td>1.0</td>\n",
       "      <td>1.0</td>\n",
       "      <td>2.0</td>\n",
       "      <td>1.0</td>\n",
       "      <td>0.0</td>\n",
       "    </tr>\n",
       "    <tr>\n",
       "      <td>18</td>\n",
       "      <td>0.0</td>\n",
       "      <td>0.0</td>\n",
       "      <td>0.0</td>\n",
       "      <td>0.000000</td>\n",
       "      <td>0.0</td>\n",
       "      <td>0.0</td>\n",
       "      <td>0.0</td>\n",
       "      <td>0.0</td>\n",
       "      <td>0.0</td>\n",
       "      <td>0.0</td>\n",
       "      <td>...</td>\n",
       "      <td>0.0</td>\n",
       "      <td>0.0</td>\n",
       "      <td>0.0</td>\n",
       "      <td>0.0</td>\n",
       "      <td>0.0</td>\n",
       "      <td>0.0</td>\n",
       "      <td>0.0</td>\n",
       "      <td>0.0</td>\n",
       "      <td>0.0</td>\n",
       "      <td>0.0</td>\n",
       "    </tr>\n",
       "    <tr>\n",
       "      <td>19</td>\n",
       "      <td>0.0</td>\n",
       "      <td>0.0</td>\n",
       "      <td>4.0</td>\n",
       "      <td>1.000000</td>\n",
       "      <td>1.0</td>\n",
       "      <td>1.0</td>\n",
       "      <td>5.0</td>\n",
       "      <td>5.0</td>\n",
       "      <td>7.0</td>\n",
       "      <td>6.0</td>\n",
       "      <td>...</td>\n",
       "      <td>0.0</td>\n",
       "      <td>0.0</td>\n",
       "      <td>0.0</td>\n",
       "      <td>0.0</td>\n",
       "      <td>0.0</td>\n",
       "      <td>0.0</td>\n",
       "      <td>0.0</td>\n",
       "      <td>0.0</td>\n",
       "      <td>0.0</td>\n",
       "      <td>0.0</td>\n",
       "    </tr>\n",
       "    <tr>\n",
       "      <td>20</td>\n",
       "      <td>3.0</td>\n",
       "      <td>6.0</td>\n",
       "      <td>0.0</td>\n",
       "      <td>0.000000</td>\n",
       "      <td>0.0</td>\n",
       "      <td>0.0</td>\n",
       "      <td>0.0</td>\n",
       "      <td>0.0</td>\n",
       "      <td>0.0</td>\n",
       "      <td>0.0</td>\n",
       "      <td>...</td>\n",
       "      <td>0.0</td>\n",
       "      <td>0.0</td>\n",
       "      <td>0.0</td>\n",
       "      <td>0.0</td>\n",
       "      <td>0.0</td>\n",
       "      <td>0.0</td>\n",
       "      <td>0.0</td>\n",
       "      <td>0.0</td>\n",
       "      <td>0.0</td>\n",
       "      <td>0.0</td>\n",
       "    </tr>\n",
       "    <tr>\n",
       "      <td>21</td>\n",
       "      <td>0.0</td>\n",
       "      <td>8.0</td>\n",
       "      <td>0.0</td>\n",
       "      <td>0.000000</td>\n",
       "      <td>0.0</td>\n",
       "      <td>0.0</td>\n",
       "      <td>0.0</td>\n",
       "      <td>0.0</td>\n",
       "      <td>0.0</td>\n",
       "      <td>0.0</td>\n",
       "      <td>...</td>\n",
       "      <td>2.0</td>\n",
       "      <td>2.0</td>\n",
       "      <td>4.0</td>\n",
       "      <td>5.0</td>\n",
       "      <td>0.0</td>\n",
       "      <td>2.0</td>\n",
       "      <td>2.0</td>\n",
       "      <td>4.0</td>\n",
       "      <td>4.0</td>\n",
       "      <td>0.0</td>\n",
       "    </tr>\n",
       "    <tr>\n",
       "      <td>22</td>\n",
       "      <td>0.0</td>\n",
       "      <td>0.0</td>\n",
       "      <td>0.0</td>\n",
       "      <td>0.000000</td>\n",
       "      <td>0.0</td>\n",
       "      <td>0.0</td>\n",
       "      <td>0.0</td>\n",
       "      <td>0.0</td>\n",
       "      <td>0.0</td>\n",
       "      <td>0.0</td>\n",
       "      <td>...</td>\n",
       "      <td>0.0</td>\n",
       "      <td>0.0</td>\n",
       "      <td>0.0</td>\n",
       "      <td>0.0</td>\n",
       "      <td>0.0</td>\n",
       "      <td>0.0</td>\n",
       "      <td>0.0</td>\n",
       "      <td>0.0</td>\n",
       "      <td>0.0</td>\n",
       "      <td>0.0</td>\n",
       "    </tr>\n",
       "    <tr>\n",
       "      <td>23</td>\n",
       "      <td>1.0</td>\n",
       "      <td>2.0</td>\n",
       "      <td>1.0</td>\n",
       "      <td>2.000000</td>\n",
       "      <td>2.0</td>\n",
       "      <td>3.0</td>\n",
       "      <td>2.0</td>\n",
       "      <td>4.0</td>\n",
       "      <td>3.0</td>\n",
       "      <td>4.0</td>\n",
       "      <td>...</td>\n",
       "      <td>0.0</td>\n",
       "      <td>0.0</td>\n",
       "      <td>0.0</td>\n",
       "      <td>0.0</td>\n",
       "      <td>0.0</td>\n",
       "      <td>0.0</td>\n",
       "      <td>0.0</td>\n",
       "      <td>0.0</td>\n",
       "      <td>0.0</td>\n",
       "      <td>0.0</td>\n",
       "    </tr>\n",
       "    <tr>\n",
       "      <td>24</td>\n",
       "      <td>0.0</td>\n",
       "      <td>0.0</td>\n",
       "      <td>4.0</td>\n",
       "      <td>4.500000</td>\n",
       "      <td>0.0</td>\n",
       "      <td>2.5</td>\n",
       "      <td>3.0</td>\n",
       "      <td>1.0</td>\n",
       "      <td>0.0</td>\n",
       "      <td>0.0</td>\n",
       "      <td>...</td>\n",
       "      <td>0.0</td>\n",
       "      <td>0.0</td>\n",
       "      <td>0.0</td>\n",
       "      <td>0.0</td>\n",
       "      <td>0.0</td>\n",
       "      <td>0.0</td>\n",
       "      <td>0.0</td>\n",
       "      <td>0.0</td>\n",
       "      <td>0.0</td>\n",
       "      <td>0.0</td>\n",
       "    </tr>\n",
       "    <tr>\n",
       "      <td>25</td>\n",
       "      <td>0.0</td>\n",
       "      <td>0.0</td>\n",
       "      <td>5.0</td>\n",
       "      <td>0.000000</td>\n",
       "      <td>0.0</td>\n",
       "      <td>0.0</td>\n",
       "      <td>0.0</td>\n",
       "      <td>0.0</td>\n",
       "      <td>0.0</td>\n",
       "      <td>0.0</td>\n",
       "      <td>...</td>\n",
       "      <td>0.0</td>\n",
       "      <td>0.0</td>\n",
       "      <td>0.0</td>\n",
       "      <td>0.0</td>\n",
       "      <td>0.0</td>\n",
       "      <td>0.0</td>\n",
       "      <td>0.0</td>\n",
       "      <td>0.0</td>\n",
       "      <td>0.0</td>\n",
       "      <td>0.0</td>\n",
       "    </tr>\n",
       "    <tr>\n",
       "      <td>26</td>\n",
       "      <td>0.0</td>\n",
       "      <td>0.0</td>\n",
       "      <td>0.0</td>\n",
       "      <td>0.000000</td>\n",
       "      <td>0.0</td>\n",
       "      <td>0.0</td>\n",
       "      <td>0.0</td>\n",
       "      <td>0.0</td>\n",
       "      <td>0.0</td>\n",
       "      <td>0.0</td>\n",
       "      <td>...</td>\n",
       "      <td>0.0</td>\n",
       "      <td>0.0</td>\n",
       "      <td>0.0</td>\n",
       "      <td>0.0</td>\n",
       "      <td>0.0</td>\n",
       "      <td>0.0</td>\n",
       "      <td>0.0</td>\n",
       "      <td>0.0</td>\n",
       "      <td>0.0</td>\n",
       "      <td>0.0</td>\n",
       "    </tr>\n",
       "    <tr>\n",
       "      <td>27</td>\n",
       "      <td>0.0</td>\n",
       "      <td>0.0</td>\n",
       "      <td>0.0</td>\n",
       "      <td>5.000000</td>\n",
       "      <td>0.0</td>\n",
       "      <td>4.0</td>\n",
       "      <td>0.0</td>\n",
       "      <td>0.0</td>\n",
       "      <td>0.0</td>\n",
       "      <td>0.0</td>\n",
       "      <td>...</td>\n",
       "      <td>0.0</td>\n",
       "      <td>0.0</td>\n",
       "      <td>0.0</td>\n",
       "      <td>0.0</td>\n",
       "      <td>0.0</td>\n",
       "      <td>0.0</td>\n",
       "      <td>0.0</td>\n",
       "      <td>0.0</td>\n",
       "      <td>0.0</td>\n",
       "      <td>0.0</td>\n",
       "    </tr>\n",
       "    <tr>\n",
       "      <td>28</td>\n",
       "      <td>0.0</td>\n",
       "      <td>4.0</td>\n",
       "      <td>5.0</td>\n",
       "      <td>0.000000</td>\n",
       "      <td>3.0</td>\n",
       "      <td>0.0</td>\n",
       "      <td>1.0</td>\n",
       "      <td>0.0</td>\n",
       "      <td>0.0</td>\n",
       "      <td>0.0</td>\n",
       "      <td>...</td>\n",
       "      <td>0.0</td>\n",
       "      <td>0.0</td>\n",
       "      <td>0.0</td>\n",
       "      <td>0.0</td>\n",
       "      <td>0.0</td>\n",
       "      <td>0.0</td>\n",
       "      <td>0.0</td>\n",
       "      <td>0.0</td>\n",
       "      <td>0.0</td>\n",
       "      <td>0.0</td>\n",
       "    </tr>\n",
       "    <tr>\n",
       "      <td>29</td>\n",
       "      <td>0.0</td>\n",
       "      <td>0.0</td>\n",
       "      <td>0.0</td>\n",
       "      <td>0.000000</td>\n",
       "      <td>0.0</td>\n",
       "      <td>0.0</td>\n",
       "      <td>0.0</td>\n",
       "      <td>2.0</td>\n",
       "      <td>0.0</td>\n",
       "      <td>0.0</td>\n",
       "      <td>...</td>\n",
       "      <td>0.0</td>\n",
       "      <td>0.0</td>\n",
       "      <td>0.0</td>\n",
       "      <td>0.0</td>\n",
       "      <td>0.0</td>\n",
       "      <td>0.0</td>\n",
       "      <td>0.0</td>\n",
       "      <td>0.0</td>\n",
       "      <td>3.0</td>\n",
       "      <td>0.0</td>\n",
       "    </tr>\n",
       "    <tr>\n",
       "      <td>30</td>\n",
       "      <td>7.0</td>\n",
       "      <td>4.0</td>\n",
       "      <td>3.5</td>\n",
       "      <td>3.666667</td>\n",
       "      <td>3.0</td>\n",
       "      <td>6.0</td>\n",
       "      <td>3.0</td>\n",
       "      <td>5.0</td>\n",
       "      <td>0.0</td>\n",
       "      <td>0.0</td>\n",
       "      <td>...</td>\n",
       "      <td>0.0</td>\n",
       "      <td>3.0</td>\n",
       "      <td>0.0</td>\n",
       "      <td>0.0</td>\n",
       "      <td>2.0</td>\n",
       "      <td>0.0</td>\n",
       "      <td>0.0</td>\n",
       "      <td>0.0</td>\n",
       "      <td>0.0</td>\n",
       "      <td>0.0</td>\n",
       "    </tr>\n",
       "  </tbody>\n",
       "</table>\n",
       "<p>30 rows × 31 columns</p>\n",
       "</div>"
      ],
      "text/plain": [
       "repoId   1    2    3         4    5    6    7    8    9    10  ...   22   23  \\\n",
       "userId                                                         ...             \n",
       "1       2.0  3.0  4.0  5.000000  3.0  1.0  5.0  1.0  0.0  4.0  ...  0.0  0.0   \n",
       "2       0.0  0.0  0.0  0.000000  0.0  0.0  0.0  0.0  0.0  0.0  ...  1.0  1.0   \n",
       "3       0.0  0.0  0.0  0.000000  0.0  0.0  5.0  0.0  0.0  0.0  ...  0.0  0.0   \n",
       "4       0.0  0.0  0.0  0.000000  0.0  0.0  5.0  0.0  0.0  0.0  ...  0.0  6.0   \n",
       "5       1.0  1.0  1.0  0.000000  1.0  0.0  1.0  0.0  1.0  0.0  ...  0.0  0.0   \n",
       "6       0.0  0.0  0.0  1.000000  7.0  0.0  0.0  0.0  0.0  1.0  ...  0.0  1.0   \n",
       "7       1.0  1.0  1.0  1.000000  1.0  1.0  1.0  4.0  7.0  0.0  ...  0.0  0.0   \n",
       "8       0.0  0.0  1.0  0.000000  3.0  3.0  0.0  1.0  0.0  0.0  ...  0.0  5.0   \n",
       "9       0.0  0.0  0.0  0.000000  0.0  0.0  0.0  0.0  0.0  0.0  ...  0.0  0.0   \n",
       "10      0.0  0.0  0.0  5.000000  0.0  7.0  5.0  0.0  3.0  0.0  ...  0.0  0.0   \n",
       "11      0.0  0.0  0.0  0.000000  0.0  0.0  0.0  0.0  0.0  0.0  ...  2.0  2.0   \n",
       "12      0.0  0.0  0.0  0.000000  0.0  0.0  0.0  0.0  0.0  0.0  ...  1.0  0.0   \n",
       "13      3.0  0.0  0.0  0.000000  0.0  0.0  0.0  0.0  0.0  0.0  ...  0.0  0.0   \n",
       "14      0.0  6.0  3.0  3.000000  5.0  4.0  3.0  7.0  5.0  2.0  ...  0.0  0.0   \n",
       "15      0.0  0.0  0.0  0.000000  0.0  0.0  0.0  2.0  0.0  0.0  ...  0.0  0.0   \n",
       "16      0.0  0.0  0.0  0.000000  0.0  0.0  0.0  0.0  0.0  0.0  ...  0.0  0.0   \n",
       "17      2.0  3.0  1.0  3.000000  2.0  2.0  3.0  3.0  3.5  0.0  ...  1.0  2.5   \n",
       "18      0.0  0.0  0.0  0.000000  0.0  0.0  0.0  0.0  0.0  0.0  ...  0.0  0.0   \n",
       "19      0.0  0.0  4.0  1.000000  1.0  1.0  5.0  5.0  7.0  6.0  ...  0.0  0.0   \n",
       "20      3.0  6.0  0.0  0.000000  0.0  0.0  0.0  0.0  0.0  0.0  ...  0.0  0.0   \n",
       "21      0.0  8.0  0.0  0.000000  0.0  0.0  0.0  0.0  0.0  0.0  ...  2.0  2.0   \n",
       "22      0.0  0.0  0.0  0.000000  0.0  0.0  0.0  0.0  0.0  0.0  ...  0.0  0.0   \n",
       "23      1.0  2.0  1.0  2.000000  2.0  3.0  2.0  4.0  3.0  4.0  ...  0.0  0.0   \n",
       "24      0.0  0.0  4.0  4.500000  0.0  2.5  3.0  1.0  0.0  0.0  ...  0.0  0.0   \n",
       "25      0.0  0.0  5.0  0.000000  0.0  0.0  0.0  0.0  0.0  0.0  ...  0.0  0.0   \n",
       "26      0.0  0.0  0.0  0.000000  0.0  0.0  0.0  0.0  0.0  0.0  ...  0.0  0.0   \n",
       "27      0.0  0.0  0.0  5.000000  0.0  4.0  0.0  0.0  0.0  0.0  ...  0.0  0.0   \n",
       "28      0.0  4.0  5.0  0.000000  3.0  0.0  1.0  0.0  0.0  0.0  ...  0.0  0.0   \n",
       "29      0.0  0.0  0.0  0.000000  0.0  0.0  0.0  2.0  0.0  0.0  ...  0.0  0.0   \n",
       "30      7.0  4.0  3.5  3.666667  3.0  6.0  3.0  5.0  0.0  0.0  ...  0.0  3.0   \n",
       "\n",
       "repoId   24   25   26   27   28   29   30   31  \n",
       "userId                                          \n",
       "1       0.0  0.0  0.0  0.0  0.0  0.0  5.0  0.0  \n",
       "2       0.0  0.0  0.0  0.0  0.0  0.0  0.0  0.0  \n",
       "3       3.0  2.0  1.0  1.0  1.0  1.0  1.0  1.0  \n",
       "4       0.0  0.0  1.0  4.0  3.0  1.0  1.0  0.0  \n",
       "5       1.0  1.0  0.0  5.0  0.0  0.0  0.0  0.0  \n",
       "6       0.0  0.0  0.0  0.0  0.0  0.0  0.0  0.0  \n",
       "7       0.0  0.0  0.0  0.0  0.0  0.0  0.0  0.0  \n",
       "8       0.0  1.0  0.0  0.0  0.0  0.0  2.0  0.0  \n",
       "9       0.0  0.0  0.0  0.0  0.0  0.0  0.0  0.0  \n",
       "10      0.0  0.0  2.0  1.0  1.0  0.0  0.0  0.0  \n",
       "11      7.0  7.0  0.0  0.0  0.0  0.0  0.0  0.0  \n",
       "12      0.0  0.0  0.0  0.0  0.0  0.0  1.0  0.0  \n",
       "13      0.0  0.0  0.0  0.0  0.0  0.0  0.0  0.0  \n",
       "14      0.0  0.0  0.0  0.0  0.0  0.0  0.0  0.0  \n",
       "15      0.0  0.0  0.0  7.0  0.0  0.0  2.0  0.0  \n",
       "16      0.0  0.0  0.0  2.0  3.0  3.0  0.0  0.0  \n",
       "17      3.0  3.0  4.0  1.0  1.0  2.0  1.0  0.0  \n",
       "18      0.0  0.0  0.0  0.0  0.0  0.0  0.0  0.0  \n",
       "19      0.0  0.0  0.0  0.0  0.0  0.0  0.0  0.0  \n",
       "20      0.0  0.0  0.0  0.0  0.0  0.0  0.0  0.0  \n",
       "21      4.0  5.0  0.0  2.0  2.0  4.0  4.0  0.0  \n",
       "22      0.0  0.0  0.0  0.0  0.0  0.0  0.0  0.0  \n",
       "23      0.0  0.0  0.0  0.0  0.0  0.0  0.0  0.0  \n",
       "24      0.0  0.0  0.0  0.0  0.0  0.0  0.0  0.0  \n",
       "25      0.0  0.0  0.0  0.0  0.0  0.0  0.0  0.0  \n",
       "26      0.0  0.0  0.0  0.0  0.0  0.0  0.0  0.0  \n",
       "27      0.0  0.0  0.0  0.0  0.0  0.0  0.0  0.0  \n",
       "28      0.0  0.0  0.0  0.0  0.0  0.0  0.0  0.0  \n",
       "29      0.0  0.0  0.0  0.0  0.0  0.0  3.0  0.0  \n",
       "30      0.0  0.0  2.0  0.0  0.0  0.0  0.0  0.0  \n",
       "\n",
       "[30 rows x 31 columns]"
      ]
     },
     "execution_count": 40,
     "metadata": {},
     "output_type": "execute_result"
    }
   ],
   "source": [
    "#ahora crearemos una matriz donde cruzaremos los usuarios con las discos\n",
    "df_matrix = pd.pivot_table(df_ratings, values='rating', index='userId', columns='repoId').fillna(0)\n",
    "df_matrix"
   ]
  },
  {
   "cell_type": "code",
   "execution_count": 41,
   "metadata": {},
   "outputs": [
    {
     "name": "stdout",
     "output_type": "stream",
     "text": [
      "Sparsity: 28.28%\n"
     ]
    }
   ],
   "source": [
    "#calculamos porcentaje de sparcy (porcentaje de 0 que hay que rellenar (predecir))\n",
    "ratings = df_matrix.values\n",
    "sparsity = float(len(ratings.nonzero()[0]))\n",
    "sparsity /= (ratings.shape[0] * ratings.shape[1])\n",
    "sparsity *= 100\n",
    "print('Sparsity: {:4.2f}%'.format(sparsity))"
   ]
  },
  {
   "cell_type": "code",
   "execution_count": 42,
   "metadata": {},
   "outputs": [
    {
     "name": "stdout",
     "output_type": "stream",
     "text": [
      "(24, 31)\n",
      "(6, 31)\n"
     ]
    }
   ],
   "source": [
    "ratings_train, ratings_test = train_test_split(ratings, test_size = 0.2, random_state=42)\n",
    "print(ratings_train.shape)\n",
    "print(ratings_test.shape)"
   ]
  },
  {
   "cell_type": "code",
   "execution_count": 43,
   "metadata": {},
   "outputs": [
    {
     "name": "stdout",
     "output_type": "stream",
     "text": [
      "(30, 30)\n"
     ]
    }
   ],
   "source": [
    "#calculamos en una nueva matriz la similitud entre usuarios\n",
    "sim_matrix = 1 - sklearn.metrics.pairwise.cosine_distances(ratings)\n",
    "print(sim_matrix.shape)"
   ]
  },
  {
   "cell_type": "code",
   "execution_count": 44,
   "metadata": {},
   "outputs": [
    {
     "data": {
      "image/png": "[encoded data removed]",
      "text/plain": [
       "<Figure size 1440x360 with 2 Axes>"
      ]
     },
     "metadata": {
      "needs_background": "light"
     },
     "output_type": "display_data"
    }
   ],
   "source": [
    "plt.imshow(sim_matrix);\n",
    "plt.colorbar()\n",
    "plt.show()\n",
    "#cuanto mas cercano a 1 mayor similitud entre los usuarios"
   ]
  },
  {
   "cell_type": "code",
   "execution_count": 45,
   "metadata": {},
   "outputs": [],
   "source": [
    "#\"sugeridos para mi\"\n",
    "#separar las filas y columnas de train y test\n",
    "sim_matrix_train = sim_matrix[0:24,0:24]\n",
    "sim_matrix_test = sim_matrix[24:30,24:30]\n",
    "\n",
    "users_predictions = sim_matrix_train.dot(ratings_train) / np.array([np.abs(sim_matrix_train).sum(axis=1)]).T"
   ]
  },
  {
   "cell_type": "code",
   "execution_count": 46,
   "metadata": {},
   "outputs": [
    {
     "data": {
      "image/png": "[encoded data removed]",
      "text/plain": [
       "<Figure size 1440x360 with 2 Axes>"
      ]
     },
     "metadata": {
      "needs_background": "light"
     },
     "output_type": "display_data"
    }
   ],
   "source": [
    "plt.rcParams['figure.figsize'] = (20.0, 5.0)\n",
    "plt.imshow(users_predictions);\n",
    "plt.colorbar()\n",
    "plt.show()"
   ]
  },
  {
   "cell_type": "code",
   "execution_count": 47,
   "metadata": {},
   "outputs": [
    {
     "name": "stdout",
     "output_type": "stream",
     "text": [
      "2    La guachafita de lleras (1995)\n",
      "Name: title, dtype: object puntaje: 1.624527575660342\n",
      "13    Tabu discoteca (1994)\n",
      "Name: title, dtype: object puntaje: 2.064858597645771\n",
      "11    Bolivar (1995)\n",
      "Name: title, dtype: object puntaje: 2.072406608633271\n"
     ]
    }
   ],
   "source": [
    "USUARIO_EJEMPLO = 'oldani' # debe existir en nuestro dataset\n",
    "data = df_users[df_users['username'] == USUARIO_EJEMPLO]\n",
    "usuario_ver = data.iloc[0]['userId'] -1 # resta 1 para obtener el index de pandas\n",
    "user0=users_predictions.argsort()[usuario_ver]\n",
    "\n",
    "# Veamos los tres recomendados con mayor puntaje en la predic para este usuario\n",
    "for i, aRepo in enumerate(user0[-3:]):\n",
    "    selRepo = df_repos[df_repos['repoId']==(aRepo+1)]\n",
    "    print(selRepo['title'] , 'puntaje:', users_predictions[usuario_ver][aRepo])"
   ]
  },
  {
   "cell_type": "code",
   "execution_count": 48,
   "metadata": {},
   "outputs": [
    {
     "data": {
      "text/plain": [
       "NearestNeighbors(algorithm='auto', leaf_size=30, metric='minkowski',\n",
       "                 metric_params=None, n_jobs=None, n_neighbors=8, p=2,\n",
       "                 radius='cosine')"
      ]
     },
     "execution_count": 48,
     "metadata": {},
     "output_type": "execute_result"
    }
   ],
   "source": [
    "#recomendación usando el vecino más cercano \"mas similares\"\n",
    "k = 8\n",
    "neighbors = NearestNeighbors(k, 'cosine')\n",
    "neighbors.fit(ratings_train)"
   ]
  },
  {
   "cell_type": "code",
   "execution_count": 49,
   "metadata": {},
   "outputs": [
    {
     "data": {
      "text/plain": [
       "(24, 8)"
      ]
     },
     "execution_count": 49,
     "metadata": {},
     "output_type": "execute_result"
    }
   ],
   "source": [
    "top_k_distances, top_k_users = neighbors.kneighbors(ratings_train, return_distance=True)\n",
    "top_k_distances.shape"
   ]
  },
  {
   "cell_type": "code",
   "execution_count": 50,
   "metadata": {},
   "outputs": [
    {
     "data": {
      "text/plain": [
       "array([ 0.        , 11.54820813, 12.77258349, 12.84631378, 13.70421671,\n",
       "       13.71232211, 13.72750685, 14.59547114])"
      ]
     },
     "execution_count": 50,
     "metadata": {},
     "output_type": "execute_result"
    }
   ],
   "source": [
    "top_k_distances[usuario_ver]"
   ]
  },
  {
   "cell_type": "code",
   "execution_count": 51,
   "metadata": {},
   "outputs": [
    {
     "data": {
      "text/plain": [
       "(24, 8)"
      ]
     },
     "execution_count": 51,
     "metadata": {},
     "output_type": "execute_result"
    }
   ],
   "source": [
    "top_k_users.shape"
   ]
  },
  {
   "cell_type": "code",
   "execution_count": 52,
   "metadata": {},
   "outputs": [
    {
     "data": {
      "text/plain": [
       "array([ 3,  9,  5, 11,  1, 10, 13,  8], dtype=int64)"
      ]
     },
     "execution_count": 52,
     "metadata": {},
     "output_type": "execute_result"
    }
   ],
   "source": [
    "res = top_k_users[usuario_ver]\n",
    "res"
   ]
  },
  {
   "cell_type": "code",
   "execution_count": 53,
   "metadata": {},
   "outputs": [
    {
     "name": "stdout",
     "output_type": "stream",
     "text": [
      "   userId username             name\n",
      "3       4   oldani  Ordanis Sanchez\n",
      "   userId username                   name\n",
      "9      10   josmig  José Miguel Pantigoso\n",
      "   userId   username                name\n",
      "5       6  luisbalru  Luis Balderas Ruiz\n",
      "    userId  username                  name\n",
      "11      12  jbagnato  Juan Ignacio Bagnato\n",
      "   userId     username   name\n",
      "1       2  dianaclarke  Diana\n",
      "    userId          username                name\n",
      "10      11  davidmartinezros  David Martínez Ros\n",
      "    userId   username    name\n",
      "13      14  aguadotzn  Adrián\n",
      "   userId      username         name\n",
      "8       9  camiloyate09  Camilo Yate\n"
     ]
    }
   ],
   "source": [
    "for a_index in res:\n",
    "    print(df_users[df_users['userId'] == (a_index+1)])"
   ]
  },
  {
   "cell_type": "code",
   "execution_count": 54,
   "metadata": {},
   "outputs": [],
   "source": [
    "users_predicts_k = np.zeros(ratings_train.shape)\n",
    "for i in range(ratings_train.shape[0]):# para cada usuario del conjunto de entrenamiento\n",
    "    users_predicts_k[i,:] = top_k_distances[i].T.dot(ratings_train[top_k_users][i]) / np.array([np.abs(top_k_distances[i].T).sum(axis=0)]).T"
   ]
  },
  {
   "cell_type": "code",
   "execution_count": 55,
   "metadata": {},
   "outputs": [
    {
     "data": {
      "text/plain": [
       "(24, 31)"
      ]
     },
     "execution_count": 55,
     "metadata": {},
     "output_type": "execute_result"
    }
   ],
   "source": [
    "users_predicts_k.shape"
   ]
  },
  {
   "cell_type": "code",
   "execution_count": 56,
   "metadata": {},
   "outputs": [
    {
     "data": {
      "image/png": "[encoded data removed]",
      "text/plain": [
       "<Figure size 1440x360 with 2 Axes>"
      ]
     },
     "metadata": {
      "needs_background": "light"
     },
     "output_type": "display_data"
    }
   ],
   "source": [
    "plt.imshow(users_predicts_k);\n",
    "plt.colorbar()\n",
    "plt.show()"
   ]
  },
  {
   "cell_type": "code",
   "execution_count": 57,
   "metadata": {},
   "outputs": [
    {
     "name": "stdout",
     "output_type": "stream",
     "text": [
      "11    Bolivar (1995)\n",
      "Name: title, dtype: object puntaje: 1.9380800065526125\n",
      "6    Mansion club (1995)\n",
      "Name: title, dtype: object puntaje: 2.091167080128162\n",
      "10    Mi nina (Se7en) (1995)\n",
      "Name: title, dtype: object puntaje: 2.1957531574460543\n",
      "13    Tabu discoteca (1994)\n",
      "Name: title, dtype: object puntaje: 4.978049192812512\n"
     ]
    }
   ],
   "source": [
    "user0=users_predicts_k.argsort()[usuario_ver][-4:]\n",
    "# los tres con mayor puntaje en la predic para este usuario\n",
    "for aRepo in user0:\n",
    "    selRepo = df_repos[df_repos['repoId'] == (aRepo+1)]\n",
    "    print(selRepo['title'], 'puntaje:', users_predicts_k[usuario_ver][aRepo])"
   ]
  },
  {
   "cell_type": "code",
   "execution_count": 58,
   "metadata": {},
   "outputs": [
    {
     "data": {
      "text/plain": [
       "31"
      ]
     },
     "execution_count": 58,
     "metadata": {},
     "output_type": "execute_result"
    }
   ],
   "source": [
    "#filtro colaborativo basado en items\n",
    "#basado en items\n",
    "n_repos = ratings_train.shape[1]\n",
    "n_repos"
   ]
  },
  {
   "cell_type": "code",
   "execution_count": 59,
   "metadata": {},
   "outputs": [
    {
     "data": {
      "text/plain": [
       "NearestNeighbors(algorithm='auto', leaf_size=30, metric='minkowski',\n",
       "                 metric_params=None, n_jobs=None, n_neighbors=31, p=2,\n",
       "                 radius='cosine')"
      ]
     },
     "execution_count": 59,
     "metadata": {},
     "output_type": "execute_result"
    }
   ],
   "source": [
    "neighbors = NearestNeighbors(n_repos, 'cosine')\n",
    "neighbors.fit(ratings_train.T)"
   ]
  },
  {
   "cell_type": "code",
   "execution_count": 60,
   "metadata": {},
   "outputs": [
    {
     "data": {
      "text/plain": [
       "(31, 31)"
      ]
     },
     "execution_count": 60,
     "metadata": {},
     "output_type": "execute_result"
    }
   ],
   "source": [
    "top_k_distances, top_k_items = neighbors.kneighbors(ratings_train.T, return_distance=True)\n",
    "top_k_distances.shape"
   ]
  },
  {
   "cell_type": "code",
   "execution_count": 61,
   "metadata": {},
   "outputs": [
    {
     "data": {
      "text/plain": [
       "array([[ 0, 19, 25,  5, 16,  3, 30, 10, 21,  2, 27, 15, 28, 17, 22, 20,\n",
       "        14, 29,  4,  7,  9,  6,  1, 23, 12, 24, 18, 26,  8, 11, 13],\n",
       "       [ 1, 12, 28,  0, 29,  5,  3, 16, 21, 27,  7,  2, 25, 10,  4, 19,\n",
       "        17, 24, 14, 23, 30, 20, 15, 11,  9, 18,  6, 22,  8, 26, 13],\n",
       "       [ 2, 10,  9,  3, 19,  5, 12, 15, 25,  6,  7, 30,  0, 21, 17,  4,\n",
       "        16, 27, 29, 28, 14, 20,  8, 22, 18,  1, 23, 24, 26, 11, 13],\n",
       "       [ 3,  5,  2, 19, 25,  0, 10,  9,  4, 15, 16, 30, 21,  6, 29, 27,\n",
       "         7, 28, 14, 17, 20, 12, 22, 11,  1,  8, 23, 18, 24, 26, 13],\n",
       "       [ 4,  3,  5,  2,  9,  7, 25, 10, 30, 19, 15, 20, 21,  0, 16, 27,\n",
       "        28, 22, 29,  6, 14, 12, 17,  8,  1, 18, 24, 23, 11, 26, 13],\n",
       "       [ 5,  3, 19,  7,  0, 10, 25,  2,  4, 16, 30, 20, 21, 22, 27,  9,\n",
       "        28, 15, 11,  6, 14, 29, 12,  8, 17,  1, 18, 24, 23, 26, 13],\n",
       "       [ 6,  9,  2,  3, 10, 25, 27,  7, 29,  5, 28, 30, 19, 16, 22, 15,\n",
       "         0,  8,  4, 21, 14, 17, 26, 12, 20, 23, 24,  1, 13, 18, 11],\n",
       "       [ 7,  8,  5,  2,  9,  3,  4, 10,  6,  0, 25, 19, 30, 12,  1, 16,\n",
       "        21, 15, 27, 28, 29, 14, 20, 22, 17, 11, 26, 18, 23, 24, 13],\n",
       "       [ 8,  7,  9,  2,  6,  5, 25,  3, 30, 21,  4, 28, 27, 10, 15, 20,\n",
       "        12, 16,  0, 17, 19, 29, 23, 24,  1, 22, 14, 26, 18, 11, 13],\n",
       "       [ 9,  2, 15, 30,  6,  3, 21, 27,  8, 28, 29,  7, 25, 10,  4,  5,\n",
       "        16, 20, 19, 17, 12,  0, 14, 23, 22, 18, 24, 26,  1, 11, 13],\n",
       "       [10,  2, 25,  5,  3, 19,  0, 30, 12, 27, 28, 21, 16,  6,  9, 17,\n",
       "        15,  7, 14,  4, 29, 20, 22, 23, 24, 11,  1,  8, 26, 18, 13],\n",
       "       [11,  5, 14, 22, 12, 29,  3, 20, 16, 10, 27,  2, 28, 18, 25, 21,\n",
       "         1, 17, 15,  4,  0, 30, 19,  9,  7,  6, 24, 23, 26,  8, 13],\n",
       "       [12,  2, 28, 16, 21, 10, 17, 27, 15, 29, 30,  1, 14, 25, 18,  9,\n",
       "        20,  3, 11,  5,  4, 24, 19, 23,  0,  7, 22,  6, 26,  8, 13],\n",
       "       [13,  6, 29, 10, 27, 14, 28, 22, 12,  9, 26, 15, 17, 21,  3, 25,\n",
       "         2, 11, 16, 23, 30, 24,  1, 20, 18,  0, 19,  4,  5,  7,  8],\n",
       "       [14, 16, 18, 29, 15, 25, 22, 20, 17, 27, 28, 21, 26, 19, 30,  2,\n",
       "        10,  3,  0, 12,  5, 11,  4, 24,  6,  9, 23,  1,  7,  8, 13],\n",
       "       [15, 30, 21, 29, 27, 28, 25, 16, 17, 19, 20, 18, 14,  9,  3,  2,\n",
       "         0, 12, 26, 10, 23, 22,  5, 24,  4,  6,  7,  8,  1, 11, 13],\n",
       "       [16, 25, 28, 21, 27, 14, 15, 19, 30, 18, 29, 20, 17,  0, 22, 12,\n",
       "         3,  5, 10,  2, 24, 23,  9,  4,  6, 26, 11,  1,  7,  8, 13],\n",
       "       [17, 28, 21, 15, 27, 30, 25, 18, 29, 16, 19, 20, 14, 12,  2,  0,\n",
       "        10, 24, 23,  3,  9, 22, 26,  5,  4,  6,  1, 11,  8,  7, 13],\n",
       "       [18, 14, 16, 15, 17, 29, 21, 28, 20, 27, 19, 30, 25, 12, 22, 26,\n",
       "        24, 23,  0,  2,  5,  3,  9, 10,  4, 11,  1,  6,  7,  8, 13],\n",
       "       [19,  0, 25, 16, 30, 15,  5, 21, 27,  3, 28,  2, 10, 17, 20, 14,\n",
       "        29, 22, 18,  9,  4,  6,  7, 23, 24, 12, 26,  1,  8, 11, 13],\n",
       "       [20, 21, 30, 28, 27, 22, 24, 25, 23, 15, 29, 16, 17, 14, 19, 18,\n",
       "         5,  2,  9,  0,  4, 12, 10,  3, 26, 11,  6,  7,  1,  8, 13],\n",
       "       [21, 30, 28, 27, 25, 20, 15, 23, 24, 16, 17, 29, 19, 22,  9,  0,\n",
       "        12, 18,  2, 10,  3, 14, 26,  5,  4,  6,  1,  8,  7, 11, 13],\n",
       "       [22, 20, 27, 25, 28, 21, 16, 14, 30, 29, 19, 24,  5, 15, 23,  0,\n",
       "        26, 17, 10,  6,  4, 11, 18,  2,  3, 12,  9,  7,  1,  8, 13],\n",
       "       [23, 24, 21, 28, 20, 27, 25, 30, 29, 17, 15, 16, 22, 19, 26, 10,\n",
       "        14,  0, 18, 12,  3,  9,  2,  5,  6,  1,  4,  8,  7, 11, 13],\n",
       "       [24, 23, 21, 20, 28, 27, 25, 30, 29, 22, 17, 16, 15, 19, 18, 14,\n",
       "        26, 12, 10,  0,  3,  9,  2,  5,  1,  4,  6,  8, 11,  7, 13],\n",
       "       [25, 27, 30, 28, 21, 16, 19, 15, 20,  0, 10, 22, 17,  3, 29,  5,\n",
       "        23, 14, 24,  2,  9,  6, 26,  4, 18, 12,  7,  8,  1, 11, 13],\n",
       "       [26, 27, 28, 15, 30, 14, 21, 25, 29, 22, 20, 16, 18, 17, 23, 24,\n",
       "        19,  0,  6, 10,  2, 12,  9,  3,  5,  4,  7,  1,  8, 11, 13],\n",
       "       [27, 28, 30, 21, 25, 15, 20, 29, 16, 22, 17, 19, 23, 24, 26, 10,\n",
       "         9, 14,  0, 12,  2,  3, 18,  6,  5,  4,  1,  8,  7, 11, 13],\n",
       "       [28, 27, 21, 30, 25, 20, 29, 15, 17, 16, 24, 23, 22, 19, 12, 26,\n",
       "        14, 18,  0, 10,  9,  3,  2,  5,  1,  6,  4,  8,  7, 11, 13],\n",
       "       [29, 15, 28, 27, 21, 14, 30, 20, 16, 17, 25, 18,  3,  9, 22, 12,\n",
       "        19, 24,  2, 23, 26,  0, 10,  6,  4,  5, 11,  1,  7,  8, 13],\n",
       "       [30, 21, 27, 28, 25, 15, 20, 16, 19, 17, 29,  9, 23,  0,  2, 10,\n",
       "        24, 22,  3,  5, 26, 12, 14, 18,  4,  6,  8,  7,  1, 11, 13]],\n",
       "      dtype=int64)"
      ]
     },
     "execution_count": 61,
     "metadata": {},
     "output_type": "execute_result"
    }
   ],
   "source": [
    "top_k_items"
   ]
  },
  {
   "cell_type": "code",
   "execution_count": 71,
   "metadata": {},
   "outputs": [],
   "source": [
    "data = df_repos[df_repos['title'] == 'Son Havana (1995)']\n",
    "repo_ver = data.iloc[0]['repoId'] -1\n",
    "#print(repo_ver)"
   ]
  },
  {
   "cell_type": "code",
   "execution_count": 72,
   "metadata": {},
   "outputs": [
    {
     "data": {
      "text/html": [
       "<div>\n",
       "<style scoped>\n",
       "    .dataframe tbody tr th:only-of-type {\n",
       "        vertical-align: middle;\n",
       "    }\n",
       "\n",
       "    .dataframe tbody tr th {\n",
       "        vertical-align: top;\n",
       "    }\n",
       "\n",
       "    .dataframe thead th {\n",
       "        text-align: right;\n",
       "    }\n",
       "</style>\n",
       "<table border=\"1\" class=\"dataframe\">\n",
       "  <thead>\n",
       "    <tr style=\"text-align: right;\">\n",
       "      <th></th>\n",
       "      <th>repoId</th>\n",
       "      <th>title</th>\n",
       "      <th>categories</th>\n",
       "    </tr>\n",
       "  </thead>\n",
       "  <tbody>\n",
       "    <tr>\n",
       "      <td>0</td>\n",
       "      <td>1</td>\n",
       "      <td>Son Havana (1995)</td>\n",
       "      <td>Bar</td>\n",
       "    </tr>\n",
       "  </tbody>\n",
       "</table>\n",
       "</div>"
      ],
      "text/plain": [
       "   repoId              title categories\n",
       "0       1  Son Havana (1995)        Bar"
      ]
     },
     "execution_count": 72,
     "metadata": {},
     "output_type": "execute_result"
    }
   ],
   "source": [
    "df_repos[df_repos['repoId'].isin([repo_ver+1])]"
   ]
  },
  {
   "cell_type": "code",
   "execution_count": 73,
   "metadata": {},
   "outputs": [],
   "source": [
    "item_preds = ratings_train.dot(top_k_distances) / np.array([np.abs(top_k_distances).sum(axis=1)])"
   ]
  },
  {
   "cell_type": "code",
   "execution_count": 74,
   "metadata": {},
   "outputs": [
    {
     "data": {
      "image/png": "[encoded data removed]",
      "text/plain": [
       "<Figure size 1440x360 with 2 Axes>"
      ]
     },
     "metadata": {
      "needs_background": "light"
     },
     "output_type": "display_data"
    }
   ],
   "source": [
    "plt.imshow(item_preds);\n",
    "plt.colorbar()\n",
    "plt.show()"
   ]
  },
  {
   "cell_type": "code",
   "execution_count": 75,
   "metadata": {},
   "outputs": [
    {
     "name": "stdout",
     "output_type": "stream",
     "text": [
      "27    Apollo 13 (1995)\n",
      "Name: title, dtype: object puntaje: 3.246227672815308\n",
      "28    Cantinazo (1995)\n",
      "Name: title, dtype: object puntaje: 3.325490842230541\n",
      "Series([], Name: title, dtype: object) puntaje: 4.035737885721677\n"
     ]
    }
   ],
   "source": [
    "user0=item_preds.argsort()[usuario_ver]\n",
    "user0\n",
    "\n",
    "# los tres con mayor puntaje en la predic para este usuario\n",
    "for aRepo in user0[-3:]:\n",
    "    selRepo = df_repos[df_repos['repoId']==(aRepo+1)]\n",
    "    print(selRepo['title'], 'puntaje:', item_preds[usuario_ver][aRepo])"
   ]
  },
  {
   "cell_type": "code",
   "execution_count": null,
   "metadata": {},
   "outputs": [],
   "source": []
  }
 ],
 "metadata": {
  "kernelspec": {
   "display_name": "Python 3",
   "language": "python",
   "name": "python3"
  },
  "language_info": {
   "codemirror_mode": {
    "name": "ipython",
    "version": 3
   },
   "file_extension": ".py",
   "mimetype": "text/x-python",
   "name": "python",
   "nbconvert_exporter": "python",
   "pygments_lexer": "ipython3",
   "version": "3.7.4"
  }
 },
 "nbformat": 4,
 "nbformat_minor": 2
}
